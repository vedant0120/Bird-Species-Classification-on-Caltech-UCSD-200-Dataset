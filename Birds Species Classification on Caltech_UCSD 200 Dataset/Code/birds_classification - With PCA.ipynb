{
 "cells": [
  {
   "cell_type": "markdown",
   "metadata": {
    "colab_type": "text",
    "id": "OKV8-it5jOfH"
   },
   "source": [
    "# Importing Libraries"
   ]
  },
  {
   "cell_type": "code",
   "execution_count": null,
   "metadata": {
    "ExecuteTime": {
     "end_time": "2020-04-22T00:04:46.282629Z",
     "start_time": "2020-04-22T00:04:44.643266Z"
    },
    "colab": {},
    "colab_type": "code",
    "collapsed": true,
    "id": "K-XPWsM8jXzY"
   },
   "outputs": [],
   "source": [
    "import pandas as pd\n",
    "import numpy as np\n",
    "from sklearn.neighbors import KNeighborsClassifier\n",
    "from numpy import *\n",
    "from sklearn import svm\n",
    "from sklearn.model_selection import cross_validate\n",
    "from sklearn.feature_selection import VarianceThreshold\n",
    "from sklearn.feature_selection import SelectKBest\n",
    "from sklearn.feature_selection import chi2\n",
    "from sklearn.ensemble import ExtraTreesClassifier\n",
    "from sklearn.linear_model import LogisticRegression\n",
    "from sklearn.metrics import classification_report\n",
    "from sklearn.metrics import accuracy_score\n",
    "from sklearn.ensemble import GradientBoostingClassifier\n",
    "from sklearn.ensemble import RandomForestClassifier\n",
    "from sklearn.naive_bayes import GaussianNB\n",
    "from sklearn.feature_selection import VarianceThreshold\n",
    "from sklearn.feature_selection import SelectKBest \n",
    "from sklearn.feature_selection import chi2 \n",
    "from sklearn import tree\n",
    "from sklearn.metrics import roc_auc_score, precision_score, recall_score\n",
    "import warnings\n",
    "warnings.filterwarnings('ignore')"
   ]
  },
  {
   "cell_type": "markdown",
   "metadata": {
    "colab_type": "text",
    "id": "0YJGzNjQi9lC"
   },
   "source": [
    "# Preprocessing the data"
   ]
  },
  {
   "cell_type": "code",
   "execution_count": null,
   "metadata": {
    "ExecuteTime": {
     "end_time": "2020-04-22T00:04:50.589537Z",
     "start_time": "2020-04-22T00:04:47.824934Z"
    },
    "colab": {},
    "colab_type": "code",
    "collapsed": true,
    "id": "-z--QvBA7lrk"
   },
   "outputs": [],
   "source": [
    "attrs_ = list()\n",
    "with open(\"Data/attributes.txt\", \"r\") as in_f:\n",
    "    for line in in_f.readlines():\n",
    "        attrs_.append(line.strip().split(\" \")[1])\n",
    "\n",
    "with open(\"Data/featureData.txt\", \"r\") as in_f:\n",
    "    raw_data = in_f.read()\n",
    "    temp = np.array([list(map(float, line.strip().split(\" \"))) for line in raw_data.strip().split(\"\\n\")])\n",
    "    \n",
    "    data_df = pd.DataFrame({attr:values.tolist() for attr, values in zip(attrs_, temp.T)})\n",
    "\n",
    "with open(\"Data/image_class_labels.txt\", \"r\") as in_f:\n",
    "    raw_data_ = in_f.read()\n",
    "    temp_ = [int(line.strip().split(\" \")[1]) for line in raw_data_.strip().split(\"\\n\")]\n",
    "data_df[\"labels\"] = temp_\n",
    "\n",
    "X = data_df.iloc[:,:-1].values\n",
    "Y = data_df.iloc[:,-1:].values.ravel()\n",
    "\n",
    "size=X.shape[0]"
   ]
  },
  {
   "cell_type": "markdown",
   "metadata": {
    "colab_type": "text",
    "id": "NXlqTAAuaIL6"
   },
   "source": [
    "# Model Selection"
   ]
  },
  {
   "cell_type": "code",
   "execution_count": null,
   "metadata": {
    "ExecuteTime": {
     "end_time": "2020-04-22T00:04:51.789858Z",
     "start_time": "2020-04-22T00:04:51.781858Z"
    },
    "colab": {},
    "colab_type": "code",
    "collapsed": true,
    "id": "rZi3QEMRboLB"
   },
   "outputs": [],
   "source": [
    "def roc_auc_score_multiclass(actual_class, pred_class, average = \"macro\"):\n",
    "\n",
    "    #creating a set of all the unique classes using the actual class list\n",
    "    unique_class = set(actual_class)\n",
    "    roc_auc_dict = {}\n",
    "    for per_class in unique_class:\n",
    "        #creating a list of all the classes except the current class \n",
    "        other_class = [x for x in unique_class if x != per_class]\n",
    "\n",
    "        #marking the current class as 1 and all other classes as 0\n",
    "        new_actual_class = [0 if x in other_class else 1 for x in actual_class]\n",
    "        new_pred_class = [0 if x in other_class else 1 for x in pred_class]\n",
    "\n",
    "        #using the sklearn metrics method to calculate the roc_auc_score\n",
    "        roc_auc = roc_auc_score(new_actual_class, new_pred_class, average = average)\n",
    "        roc_auc_dict[per_class] = roc_auc\n",
    "        \n",
    "    filtered_vals = [v for _, v in roc_auc_dict.items() if v != 0]\n",
    "    average = sum(filtered_vals) / len(filtered_vals) \n",
    "\n",
    "    return average"
   ]
  },
  {
   "cell_type": "markdown",
   "metadata": {},
   "source": [
    "# 10 Fold Cross Validation"
   ]
  },
  {
   "cell_type": "code",
   "execution_count": null,
   "metadata": {
    "ExecuteTime": {
     "end_time": "2020-04-22T00:04:53.086303Z",
     "start_time": "2020-04-22T00:04:53.077304Z"
    },
    "collapsed": true
   },
   "outputs": [],
   "source": [
    "def ten_fold_cross_validation(size):\n",
    "\n",
    "    index = np.zeros((10,6))\n",
    "\n",
    "    partition_size =  math.floor(size * 0.1 )\n",
    "\n",
    "    #Creating indices for partitions\n",
    "    for i in range(0, 10):\n",
    "        if i == 0:\n",
    "            index[i] = [0, 0, 0, partition_size, partition_size, size]\n",
    "            \n",
    "        elif i == 9:\n",
    "            index[i] = [0,(size - partition_size), (size - partition_size), size, 0, 0]\n",
    "            \n",
    "        else:\n",
    "            index[i] = [0,(partition_size * i),(partition_size * i),(partition_size * (i + 1)),(partition_size * (i + 1)), size]\n",
    "\n",
    "    return index"
   ]
  },
  {
   "cell_type": "markdown",
   "metadata": {},
   "source": [
    "# PCA"
   ]
  },
  {
   "cell_type": "code",
   "execution_count": null,
   "metadata": {
    "ExecuteTime": {
     "end_time": "2020-04-22T00:04:54.391266Z",
     "start_time": "2020-04-22T00:04:54.379270Z"
    },
    "collapsed": true
   },
   "outputs": [],
   "source": [
    "def PCA(X_train, X_test):\n",
    "\n",
    "    principle_components = []\n",
    "    index = 0\n",
    "    total_variance = 0\n",
    "\n",
    "    # Computing the covariance matrix of the data\n",
    "    X_Cov =  np.cov(np.transpose(X_train))\n",
    "\n",
    "    # Computing eigenvalues and eigenvectors from covariance matrix\n",
    "    eigen_values, eigen_vectors = np.linalg.eig(X_Cov)\n",
    "\n",
    "    # Sorting eigen values and vectors in descending order\n",
    "    sorted_indexes = np.argsort(eigen_values)[::-1]\n",
    "    eigen_values =  eigen_values[sorted_indexes]\n",
    "    eigen_vectors = eigen_vectors[sorted_indexes]\n",
    "\n",
    "    # Converting eigen vectors to row vectors\n",
    "    eigen_vectors = np.transpose(eigen_vectors)\n",
    "\n",
    "\n",
    "    # Computing the variance from eigen values\n",
    "    variances = np.array([])\n",
    "\n",
    "    # Computing the total variance\n",
    "    total = np.sum(eigen_values)\n",
    "\n",
    "    # Computing variance for each principle component\n",
    "    for e in eigen_values:\n",
    "        variances = np.append(variances, ((e/total) * 100))\n",
    "        \n",
    "    # Iterating till minimum retained variance is reached\n",
    "    while(total_variance < 99):\n",
    "        total_variance = total_variance + variances[index]\n",
    "        principle_components.append(eigen_vectors[index])\n",
    "        index = index + 1\n",
    "\n",
    "    #Converting the row vector into column vector\n",
    "    principle_components = np.transpose(principle_components)\n",
    "    \n",
    "    # Reducing the dimensionality of the data\n",
    "    X_train = np.dot(X_train, principle_components)\n",
    "    X_test = np.dot(X_test, principle_components)\n",
    "    \n",
    "    return X_train, X_test"
   ]
  },
  {
   "cell_type": "markdown",
   "metadata": {
    "colab_type": "text",
    "id": "LrEsqtSCfSCu"
   },
   "source": [
    "# KNN"
   ]
  },
  {
   "cell_type": "code",
   "execution_count": null,
   "metadata": {
    "ExecuteTime": {
     "end_time": "2020-04-21T23:53:54.978228Z",
     "start_time": "2020-04-21T23:52:27.909068Z"
    },
    "colab": {
     "base_uri": "https://localhost:8080/",
     "height": 51
    },
    "colab_type": "code",
    "collapsed": true,
    "id": "oESeJw1Z7lst",
    "outputId": "b7d1ffae-989d-4211-cad7-30f808343ffb"
   },
   "outputs": [],
   "source": [
    "\n",
    "area = np.array([])\n",
    "acc = np.array([])\n",
    "\n",
    "for ind in ten_fold_cross_validation(size):\n",
    "     \n",
    "    # Creating Partitions of X and Y Data\n",
    "    tn1_s, tn1_e, te_s, te_e, tn2_s, tn2_e = ind.astype(int)\n",
    "    X_test = X[te_s:te_e, :]\n",
    "    Y_test = Y[te_s:te_e]\n",
    "    X_train = np.concatenate((X[tn1_s:tn1_e, :], X[tn2_s:tn2_e, :]))\n",
    "    Y_train = np.concatenate((Y[tn1_s:tn1_e], Y[tn2_s:tn2_e]))\n",
    "    \n",
    "    #Apply PCA\n",
    "    X_train, X_test = PCA(X_train, X_test)\n",
    "    \n",
    "    # Performing KNN\n",
    "    knn = KNeighborsClassifier(n_neighbors = 100)\n",
    "\n",
    "    knn.fit(X_train,Y_train)\n",
    "    \n",
    "    Y_pred = knn.predict(X_test)\n",
    "\n",
    "    # Computing Area under ROC\n",
    "    \n",
    "    score=roc_auc_score_multiclass(Y_test, Y_pred)\n",
    "    \n",
    "    area = np.append(area, score)\n",
    "    \n",
    "    # Computing Accuracy at each step\n",
    "    acc = np.append(acc,accuracy_score(Y_test, Y_pred))\n",
    "    \n",
    "print(\"Results with PCA:\")\n",
    "print(\"Area under ROC curve:\",np.mean(area))\n",
    "print(\"Accuracy:\",np.mean(acc))"
   ]
  },
  {
   "cell_type": "markdown",
   "metadata": {
    "colab_type": "text",
    "id": "ErJoTQ-Xfc29"
   },
   "source": [
    "# SVM"
   ]
  },
  {
   "cell_type": "code",
   "execution_count": null,
   "metadata": {
    "ExecuteTime": {
     "start_time": "2020-04-21T23:38:35.106Z"
    },
    "colab": {},
    "colab_type": "code",
    "collapsed": true,
    "id": "JzCQX9_4ivt4"
   },
   "outputs": [],
   "source": [
    "\n",
    "area = np.array([])\n",
    "acc = np.array([])\n",
    "\n",
    "for ind in ten_fold_cross_validation(size):\n",
    "     \n",
    "    # Creating Partitions of X and Y Data\n",
    "    tn1_s, tn1_e, te_s, te_e, tn2_s, tn2_e = ind.astype(int)\n",
    "    X_test = X[te_s:te_e, :]\n",
    "    Y_test = Y[te_s:te_e]\n",
    "    X_train = np.concatenate((X[tn1_s:tn1_e, :], X[tn2_s:tn2_e, :]))\n",
    "    Y_train = np.concatenate((Y[tn1_s:tn1_e], Y[tn2_s:tn2_e]))\n",
    "    \n",
    "    #Apply PCA\n",
    "    X_train, X_test = PCA(X_train, X_test)\n",
    "    \n",
    "    # Performing SVM\n",
    "    clf_svm = svm.SVC(kernel='rbf')\n",
    "\n",
    "    clf_svm.fit(X_train,Y_train)\n",
    "    \n",
    "    Y_pred = clf_svm.predict(X_test)\n",
    "\n",
    "    # Computing Area under ROC\n",
    "    \n",
    "    score=roc_auc_score_multiclass(Y_test, Y_pred)\n",
    "        \n",
    "    area = np.append(area, score)\n",
    "    \n",
    "    # Computing Accuracy at each step\n",
    "    acc = np.append(acc,accuracy_score(Y_test, Y_pred))\n",
    "\n",
    "print(\"Results with PCA:\")\n",
    "print(\"Area under ROC curve:\",np.mean(area))\n",
    "print(\"Accuracy:\",np.mean(acc))"
   ]
  },
  {
   "cell_type": "markdown",
   "metadata": {
    "colab_type": "text",
    "id": "rg8R0ZKE7QRH"
   },
   "source": [
    "# Naive Bayes"
   ]
  },
  {
   "cell_type": "code",
   "execution_count": null,
   "metadata": {
    "ExecuteTime": {
     "end_time": "2020-04-21T23:31:43.323338Z",
     "start_time": "2020-04-21T23:31:30.227375Z"
    },
    "colab": {
     "base_uri": "https://localhost:8080/",
     "height": 34
    },
    "colab_type": "code",
    "collapsed": true,
    "id": "mJgDr6ty7P-Z",
    "outputId": "d7503494-6775-4e4c-9387-42d3dad03cbf"
   },
   "outputs": [],
   "source": [
    "\n",
    "area = np.array([])\n",
    "acc = np.array([])\n",
    "\n",
    "for ind in ten_fold_cross_validation(size):\n",
    "     \n",
    "    # Creating Partitions of X and Y Data\n",
    "    tn1_s, tn1_e, te_s, te_e, tn2_s, tn2_e = ind.astype(int)\n",
    "    X_test = X[te_s:te_e, :]\n",
    "    Y_test = Y[te_s:te_e]\n",
    "    X_train = np.concatenate((X[tn1_s:tn1_e, :], X[tn2_s:tn2_e, :]))\n",
    "    Y_train = np.concatenate((Y[tn1_s:tn1_e], Y[tn2_s:tn2_e]))\n",
    "    \n",
    "    #Apply PCA\n",
    "    X_train, X_test = PCA(X_train, X_test)\n",
    "    \n",
    "    # Performing Naive Bayes\n",
    "    gnb = GaussianNB()\n",
    "    gnb.fit(X_train,Y_train)\n",
    "    \n",
    "    Y_pred = gnb.predict(X_test)\n",
    "\n",
    "    # Computing Area under ROC\n",
    "    \n",
    "    score= roc_auc_score_multiclass(Y_test, Y_pred)\n",
    "\n",
    "    area = np.append(area, score)\n",
    "    \n",
    "    # Computing Accuracy at each step\n",
    "    acc = np.append(acc,accuracy_score(Y_test, Y_pred))\n",
    "\n",
    "print(\"Results with PCA:\")\n",
    "print(\"Area under ROC curve:\",np.mean(area))\n",
    "print(\"Accuracy:\",np.mean(acc))"
   ]
  },
  {
   "cell_type": "markdown",
   "metadata": {
    "colab_type": "text",
    "id": "38N3jqOQkvUD"
   },
   "source": [
    "# Logistic Regression"
   ]
  },
  {
   "cell_type": "code",
   "execution_count": null,
   "metadata": {
    "ExecuteTime": {
     "end_time": "2020-04-21T23:19:15.480008Z",
     "start_time": "2020-04-21T23:17:04.282521Z"
    },
    "colab": {
     "base_uri": "https://localhost:8080/",
     "height": 1000
    },
    "colab_type": "code",
    "collapsed": true,
    "id": "-sX7Gnq6k2ak",
    "outputId": "a8cf499f-171d-4575-d5cb-e12ca4a563b4"
   },
   "outputs": [],
   "source": [
    "\n",
    "area = np.array([])\n",
    "acc = np.array([])\n",
    "\n",
    "for ind in ten_fold_cross_validation(size):\n",
    "     \n",
    "    # Creating Partitions of X and Y Data\n",
    "    tn1_s, tn1_e, te_s, te_e, tn2_s, tn2_e = ind.astype(int)\n",
    "    X_test = X[te_s:te_e, :]\n",
    "    Y_test = Y[te_s:te_e]\n",
    "    X_train = np.concatenate((X[tn1_s:tn1_e, :], X[tn2_s:tn2_e, :]))\n",
    "    Y_train = np.concatenate((Y[tn1_s:tn1_e], Y[tn2_s:tn2_e]))\n",
    "    \n",
    "    # Performing Logistic Regression\n",
    "    logmodel = LogisticRegression()\n",
    "\n",
    "    logmodel.fit(X_train,Y_train)\n",
    "    \n",
    "    Y_pred = logmodel.predict(X_test)\n",
    "\n",
    "    # Computing Area under ROC\n",
    "    try:\n",
    "        score= roc_auc_score_multiclass(Y_test, Y_pred)\n",
    "        \n",
    "    except ValueError:\n",
    "        pass\n",
    "   \n",
    "    area = np.append(area, score)\n",
    "    \n",
    "    # Computing Accuracy at each step\n",
    "    acc = np.append(acc,accuracy_score(Y_test,Y_pred))\n",
    "\n",
    "print(\"Results with PCA:\")\n",
    "print(\"Area under ROC curve:\",np.mean(area))\n",
    "print(\"Accuracy:\",np.mean(acc))"
   ]
  },
  {
   "cell_type": "markdown",
   "metadata": {
    "colab_type": "text",
    "id": "l_X8bEcN8cxm"
   },
   "source": [
    "# Decision Tree"
   ]
  },
  {
   "cell_type": "code",
   "execution_count": null,
   "metadata": {
    "ExecuteTime": {
     "end_time": "2020-04-22T00:05:12.607505Z",
     "start_time": "2020-04-22T00:05:02.981005Z"
    },
    "colab": {
     "base_uri": "https://localhost:8080/",
     "height": 34
    },
    "colab_type": "code",
    "collapsed": true,
    "id": "1ZjmNgGX8ceS",
    "outputId": "57eebcd6-4eea-42d7-81e6-9f97fa82712a"
   },
   "outputs": [],
   "source": [
    "\n",
    "\n",
    "area = np.array([])\n",
    "acc = np.array([])\n",
    "\n",
    "for ind in ten_fold_cross_validation(size):\n",
    "     \n",
    "    # Creating Partitions of X and Y Data\n",
    "    tn1_s, tn1_e, te_s, te_e, tn2_s, tn2_e = ind.astype(int)\n",
    "    X_test = X[te_s:te_e, :]\n",
    "    Y_test = Y[te_s:te_e]\n",
    "    X_train = np.concatenate((X[tn1_s:tn1_e, :], X[tn2_s:tn2_e, :]))\n",
    "    Y_train = np.concatenate((Y[tn1_s:tn1_e], Y[tn2_s:tn2_e]))\n",
    "    \n",
    "    # Performing Decision Tree Classification\n",
    "    clf_tree = tree.DecisionTreeClassifier()\n",
    "    clf_tree.fit(X_train,Y_train)\n",
    "    \n",
    "    Y_pred = clf_tree.predict(X_test)\n",
    "\n",
    "    # Computing Area under ROC\n",
    "    try:\n",
    "        score= roc_auc_score_multiclass(Y_test, Y_pred)\n",
    "        \n",
    "    except ValueError:\n",
    "        pass\n",
    "    \n",
    "    area = np.append(area, score)\n",
    "    \n",
    "    # Computing Accuracy at each step\n",
    "    acc = np.append(acc,accuracy_score(Y_test,Y_pred))\n",
    "\n",
    "print(\"Results with PCA:\")\n",
    "print(\"Area under ROC curve:\",np.mean(area))\n",
    "print(\"Accuracy:\",np.mean(acc))"
   ]
  },
  {
   "cell_type": "markdown",
   "metadata": {
    "colab_type": "text",
    "id": "Ch22bzOBr0AT"
   },
   "source": [
    "# Gradient Boosting"
   ]
  },
  {
   "cell_type": "code",
   "execution_count": null,
   "metadata": {
    "colab": {},
    "colab_type": "code",
    "collapsed": true,
    "id": "mbYFSraayR8v"
   },
   "outputs": [],
   "source": [
    "\n",
    "area = np.array([])\n",
    "acc = np.array([])\n",
    "\n",
    "for ind in ten_fold_cross_validation(size):\n",
    "     \n",
    "    # Creating Partitions of X and Y Data\n",
    "    tn1_s, tn1_e, te_s, te_e, tn2_s, tn2_e = ind.astype(int)\n",
    "    X_test = X[te_s:te_e, :]\n",
    "    Y_test = Y[te_s:te_e]\n",
    "    X_train = np.concatenate((X[tn1_s:tn1_e, :], X[tn2_s:tn2_e, :]))\n",
    "    Y_train = np.concatenate((Y[tn1_s:tn1_e], Y[tn2_s:tn2_e]))\n",
    "    \n",
    "    \n",
    "    # Performing Gradient Boosting\n",
    "    model_gc = GradientBoostingClassifier(n_estimators=100,learning_rate=0.01,max_depth=3,random_state=42)\n",
    "\n",
    "    model_gc.fit(X_train,Y_train)\n",
    "    \n",
    "    Y_pred = model_gc.predict(X_test)\n",
    "\n",
    "    # Computing Area under ROC\n",
    "    \n",
    "    score=roc_auc_score_multiclass(Y_test, Y_pred)\n",
    "\n",
    "    area = np.append(area, score)\n",
    "    \n",
    "    # Computing Accuracy at each step\n",
    "    acc = np.append(acc,accuracy_score(Y_test, Y_pred))\n",
    "\n",
    "print(\"Results with PCA:\")\n",
    "print(\"Area under ROC curve:\",np.mean(area))\n",
    "print(\"Accuracy:\",np.mean(acc))"
   ]
  },
  {
   "cell_type": "markdown",
   "metadata": {
    "colab_type": "text",
    "id": "e1Sseubh6rkQ"
   },
   "source": [
    "# Random Forest"
   ]
  },
  {
   "cell_type": "code",
   "execution_count": null,
   "metadata": {
    "colab": {
     "base_uri": "https://localhost:8080/",
     "height": 34
    },
    "colab_type": "code",
    "collapsed": true,
    "id": "s5B5Gq0v6OMc",
    "outputId": "7d7dfc35-c2df-49cd-eeef-a76ebefe1399"
   },
   "outputs": [],
   "source": [
    "\n",
    "area = np.array([])\n",
    "acc = np.array([])\n",
    "\n",
    "for ind in ten_fold_cross_validation(size):\n",
    "     \n",
    "    # Creating Partitions of X and Y Data\n",
    "    tn1_s, tn1_e, te_s, te_e, tn2_s, tn2_e = ind.astype(int)\n",
    "    X_test = X[te_s:te_e, :]\n",
    "    Y_test = Y[te_s:te_e]\n",
    "    X_train = np.concatenate((X[tn1_s:tn1_e, :], X[tn2_s:tn2_e, :]))\n",
    "    Y_train = np.concatenate((Y[tn1_s:tn1_e], Y[tn2_s:tn2_e]))\n",
    "    \n",
    "    \n",
    "    # Performing Random Forest\n",
    "    clf = RandomForestClassifier(n_estimators=5)\n",
    "\n",
    "    clf.fit(X_train,Y_train)\n",
    "    \n",
    "    Y_pred = clf.predict(X_test)\n",
    "\n",
    "    # Computing Area under ROC \n",
    "\n",
    "    score=roc_auc_score_multiclass(Y_test, Y_pred)\n",
    "\n",
    "    area = np.append(area, score)\n",
    "    \n",
    "    # Computing Accuracy at each step\n",
    "    acc = np.append(acc,accuracy_score(Y_test, Y_pred))\n",
    "\n",
    "print(\"Results with PCA:\")\n",
    "print(\"Area under ROC curve:\",np.mean(area))\n",
    "print(\"Accuracy:\",np.mean(acc))"
   ]
  }
 ],
 "metadata": {
  "colab": {
   "collapsed_sections": [],
   "name": "birds_classification.ipynb",
   "provenance": []
  },
  "kernelspec": {
   "display_name": "Python 3",
   "language": "python",
   "name": "python3"
  },
  "language_info": {
   "codemirror_mode": {
    "name": "ipython",
    "version": 3
   },
   "file_extension": ".py",
   "mimetype": "text/x-python",
   "name": "python",
   "nbconvert_exporter": "python",
   "pygments_lexer": "ipython3",
   "version": "3.6.3"
  },
  "varInspector": {
   "cols": {
    "lenName": 16,
    "lenType": 16,
    "lenVar": 40
   },
   "kernels_config": {
    "python": {
     "delete_cmd_postfix": "",
     "delete_cmd_prefix": "del ",
     "library": "var_list.py",
     "varRefreshCmd": "print(var_dic_list())"
    },
    "r": {
     "delete_cmd_postfix": ") ",
     "delete_cmd_prefix": "rm(",
     "library": "var_list.r",
     "varRefreshCmd": "cat(var_dic_list()) "
    }
   },
   "types_to_exclude": [
    "module",
    "function",
    "builtin_function_or_method",
    "instance",
    "_Feature"
   ],
   "window_display": false
  }
 },
 "nbformat": 4,
 "nbformat_minor": 1
}
